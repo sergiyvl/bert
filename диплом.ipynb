{
  "nbformat": 4,
  "nbformat_minor": 0,
  "metadata": {
    "colab": {
      "name": "диплом.ipynb",
      "provenance": [],
      "collapsed_sections": [],
      "authorship_tag": "ABX9TyM2xyYGiGyQ6N0WPuyKjblG",
      "include_colab_link": true
    },
    "kernelspec": {
      "name": "python3",
      "display_name": "Python 3"
    },
    "language_info": {
      "name": "python"
    },
    "accelerator": "GPU"
  },
  "cells": [
    {
      "cell_type": "markdown",
      "metadata": {
        "id": "view-in-github",
        "colab_type": "text"
      },
      "source": [
        "<a href=\"https://colab.research.google.com/github/sergiyvl/bert/blob/master/%D0%B4%D0%B8%D0%BF%D0%BB%D0%BE%D0%BC.ipynb\" target=\"_parent\"><img src=\"https://colab.research.google.com/assets/colab-badge.svg\" alt=\"Open In Colab\"/></a>"
      ]
    },
    {
      "cell_type": "markdown",
      "metadata": {
        "id": "DpjKk5jrEXVM"
      },
      "source": [
        "## Поиск отсылок в богослужебных текстах на библейские стихи"
      ]
    },
    {
      "cell_type": "markdown",
      "metadata": {
        "id": "iZ3Y0mBLE4ud"
      },
      "source": [
        "Следуйте инструкциям и они приведут вас к искомому результату."
      ]
    },
    {
      "cell_type": "markdown",
      "metadata": {
        "id": "hCr0jozIFITU"
      },
      "source": [
        "Задача такого поиска довольно трудоемка и чтобы процесс ожидания выдачи результатов не стал бесконечным, нужно выбрать правильную среду выполнения. \n",
        "\n",
        "---\n",
        "Наверху вы можете увидеть слова \"Файл\", \"Изменить\"... Вам нужно нажать на \"Среда Выполнения\". Где-то на уровне третий строки снизу надо нажать на \"Сменить среду выполнения\". По умолчанию выбрано \"None\". Вам нужно выбрать \"Gpu\". "
      ]
    },
    {
      "cell_type": "markdown",
      "metadata": {
        "id": "2L_xiX1CPUOb"
      },
      "source": [
        "Теперь давайте запустим ячейку! Внизу вы видите код. Код, расположен в ячейке. Для начала, наведите курсор на ячейку. Внутри ячейки, слева, появился круг с треугольником внутри. Если нажать на этот круг, код в ячейке начнет исполняться. Нажмите на круг! И подождите..."
      ]
    },
    {
      "cell_type": "code",
      "metadata": {
        "id": "BVtwa6mWP_S_"
      },
      "source": [
        "print(\"Hello, bogoslov!\")"
      ],
      "execution_count": null,
      "outputs": []
    },
    {
      "cell_type": "markdown",
      "metadata": {
        "id": "eCYLPqVlRpOg"
      },
      "source": [
        "Если с Вами поздоровались, то все идет хорошо!"
      ]
    },
    {
      "cell_type": "markdown",
      "metadata": {
        "id": "E0SikoZESNG_"
      },
      "source": [
        "## Загружаем необходимые модули. Подгружаем минеи и триодь."
      ]
    },
    {
      "cell_type": "markdown",
      "metadata": {
        "id": "eSqrcxHZSVyH"
      },
      "source": [
        "Чтобы программа работала, нужно загрузить дополнительные модули. Выполните ВСЕ ячейки внизу. (наведите курсор и нажмите на круг с треугольником)"
      ]
    },
    {
      "cell_type": "code",
      "metadata": {
        "id": "c3zoYtiuSVd4"
      },
      "source": [
        "! pip install transformers"
      ],
      "execution_count": null,
      "outputs": []
    },
    {
      "cell_type": "code",
      "metadata": {
        "id": "aB6IA9zwSMcL"
      },
      "source": [
        "! pip install -i https://test.pypi.org/simple/ references-finder==1.0.0"
      ],
      "execution_count": 38,
      "outputs": []
    },
    {
      "cell_type": "code",
      "metadata": {
        "id": "YEagqyT1bBfp"
      },
      "source": [
        "from references_finder import Obraz"
      ],
      "execution_count": 30,
      "outputs": []
    },
    {
      "cell_type": "code",
      "metadata": {
        "id": "SWjnnuPLVehr"
      },
      "source": [
        "from google.colab import drive\n",
        "drive.mount('/content/drive')"
      ],
      "execution_count": null,
      "outputs": []
    },
    {
      "cell_type": "code",
      "metadata": {
        "id": "DeHEcty_Vfam"
      },
      "source": [
        "adress_book = '/content/drive/MyDrive/diplom/books/csv/mt_gold_65875.csv'"
      ],
      "execution_count": 32,
      "outputs": []
    },
    {
      "cell_type": "markdown",
      "metadata": {
        "id": "V6yUeQ35Ukx2"
      },
      "source": [
        "## Начинаем работу. "
      ]
    },
    {
      "cell_type": "code",
      "metadata": {
        "id": "xP2ZdsYmVMXP"
      },
      "source": [
        "import torch\n",
        "device = torch.device(\"cuda:0\" if torch.cuda.is_available() else \"cpu\")\n",
        "if device == 'cpu':\n",
        "    print('cpu')\n",
        "else:\n",
        "    n_gpu = torch.cuda.device_count()\n",
        "    print(torch.cuda.get_device_name(0))"
      ],
      "execution_count": null,
      "outputs": []
    },
    {
      "cell_type": "markdown",
      "metadata": {
        "id": "XT9G10tCU8C1"
      },
      "source": [
        "Выполните ячейку и следуйте указаниям. "
      ]
    },
    {
      "cell_type": "code",
      "metadata": {
        "id": "u9Hw698pSEs2"
      },
      "source": [
        "my_obraz = Obraz(adress_book=adress_book)"
      ],
      "execution_count": null,
      "outputs": []
    },
    {
      "cell_type": "markdown",
      "metadata": {
        "id": "oMnAwGVtWCDT"
      },
      "source": [
        "Ура! Вы создали объект-образ my_obraz. У этого объекта есть методы. Основной метод - .analize(). Этот метод выполняет анализ той книги, которую Вы загрузили. По умолчанию это все зеленые минеи и триодь. В будущем библиотека расширится."
      ]
    },
    {
      "cell_type": "markdown",
      "metadata": {
        "id": "f4c34DIBq2Dx"
      },
      "source": [
        "\n",
        "Не переживайте, если программа долго ничего не пишет. Некоторые процессы могут занимать минуты. В среднем, время, которое нужно программе для анализа всех зеленых миней и триоди, составляет 10 минут."
      ]
    },
    {
      "cell_type": "markdown",
      "metadata": {
        "id": "QA_aTBqFeEy8"
      },
      "source": [
        "Вас попросят ввести ключевые токены и ключевые буквосочетания. Подробнее про то, что это такое, можно посмотреть по ссылке [Здесь потом будет ссылка.](https://)"
      ]
    },
    {
      "cell_type": "markdown",
      "metadata": {
        "id": "GLterm2Zq8JK"
      },
      "source": [
        "Запустите следующую ячейку, чтобы программа скачала необходимую модель."
      ]
    },
    {
      "cell_type": "code",
      "metadata": {
        "id": "kUOyDbsDOr1k"
      },
      "source": [
        "my_obraz.set_model_and_tokenizer()"
      ],
      "execution_count": null,
      "outputs": []
    },
    {
      "cell_type": "markdown",
      "metadata": {
        "id": "ZpXowph3kkJz"
      },
      "source": [
        "Для анализа книги на наличие введеного образа, запустите ячейку внизу."
      ]
    },
    {
      "cell_type": "code",
      "metadata": {
        "id": "5T4XHEIvWBmO"
      },
      "source": [
        "my_obraz.analize()"
      ],
      "execution_count": null,
      "outputs": []
    },
    {
      "cell_type": "markdown",
      "metadata": {
        "id": "xKhBxPxxrZEf"
      },
      "source": [
        "Чтобы получить результат на почту, запустите следующую ячейку. Исходя из опыта, указывать лучше всего почтовый ящик gmail. mail не принимает вовсе"
      ]
    },
    {
      "cell_type": "code",
      "metadata": {
        "id": "7B-3kbMGhSC7"
      },
      "source": [
        "my_obraz.send_to_email()"
      ],
      "execution_count": null,
      "outputs": []
    }
  ]
}